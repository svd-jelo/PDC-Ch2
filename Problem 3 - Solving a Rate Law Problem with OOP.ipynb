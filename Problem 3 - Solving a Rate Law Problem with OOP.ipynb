{
 "cells": [
  {
   "cell_type": "markdown",
   "metadata": {},
   "source": [
    "# Problem 3 - Solving a Rate Law Problem with Object Oriented Programming\n",
    "\n",
    "Design and implement a class, `Experiment`, to read in and store a simple series of $\\left(x,y\\right)$ data as `pylab` (i.e., NumPy) arrays from a text file. Include in your class methods for transforming the data series by some simple function (e.g., $x'=\\ln{x},y'=1/y$) and to perform a linear leastsquares regression on the transformed data (returning the gradient and intercept of the best-fit line, $y'_{\\text{fit}}$). NumPy provides methods for performing linear regression, but for this exercise the following equations can be implemented directly:\n",
    "\n",
    "$$\n",
    "\\begin{aligned}\n",
    "    m &= \\frac{\\overline{xy}-\\overline{x}\\overline{y}}{\\overline{x^2}-\\overline{x}^2}\\\\\n",
    "    c &= \\overline{y}-m\\overline{x}\n",
    "\\end{aligned}\n",
    "$$\n",
    "\n",
    "where the bar notation, $\\overline{\\cdot}$, denotes the arithmetic mean of the quantity under it. (**Hint:** use `pylab.mean(arr)` to return the mean of array `arr`.)\n",
    "\n",
    "Chloroacetic acid is an important compound in the synthetic production of pharmaceuticals, pesticides and fuels. At high concentration under strong alkaline conditions its hydrolysis may be considered as the following reaction:\n",
    "\n",
    "$$\n",
    "\\text{ClCH}_2\\text{COO}^- + \\text{OH}^- \\leftrightarrow \\text{HOCH}_2\\text{COO}^- + \\text{Cl}^-\n",
    "$$\n",
    "\n",
    "Data giving the concentration of $\\text{ClCH}_2\\text{COO}^-$, $c$ (in M), as a function of time, $t$ (in s), are provided for this reaction carried out in excess alkalai at five different temperatures in data files `caa-T.text` (`T = 40, 50, 60, 70, 80` in $^\\circ\\text{C}$): these may be found from https://scipython.com/static/media/problems/P4.6/caa-T.zip. The reaction is known to be second order and so obeys the integrated rate law.\n",
    "\n",
    "$$\n",
    "\\frac{1}{c} = \\frac{1}{c_0} + kt\n",
    "$$\n",
    "\n",
    "where $k$ is the effective rate constant and $c_0$ the initial ($t=0$) concentration of chloroacetic acid.\n",
    "\n",
    "Use your `Experiment` class to interpret these data by linear regression of $1/c$ against $t$, determining $m(\\equiv k)$ for each temperature. Then, for each value of $k$, determine the activation energy of the reaction through a second linear regression of $\\ln{k}$ against $1/T$ in accordance with the Arrhenius law:\n",
    "\n",
    "$$\n",
    "k = Ae^{-E_a/RT} \\Rightarrow \\ln{k} = \\ln{A}-\\frac{E_a}{RT}\n",
    "$$\n",
    "\n",
    "where $R=8.314~\\text{J/mol-K}$ is the gas constant. Note: the temperature must be in Kelvin.\n",
    "\n",
    "# Learning Objectives\n",
    "This problem will be used to introduce myself to object oriented programming, which I think will be pretty useful especially for handling and using data (e.g., rate data for obtaining rate laws, and process data for developing empirical models of processes). Might also be useful for developing programs (for ChE application) as well - I mean it is useful for developing programs for general applications but, for ChE applications, so far I've only been using *procedural* programming. After this problem, I should be introduced to:\n",
    "- Concepts surrounding the topic: *object, class, attributes, methods, instantiation, inheritance*. \n",
    "- Designing and implementing classes\n",
    "- Creating methods\n",
    "- Storing data series as pylab arrays from a text file.\n",
    "\n",
    "# Notes\n",
    "\n",
    "## Object-Oriented Programming Basics \n",
    "\n",
    "One of the reasons why OOP is so popular is because it is helpful in dissecting problems.\n",
    "\n",
    "### Example 1 - The `Experiment` Class\n",
    "\n",
    "Suppose you want to determine the rate law of a reaction using experimental data (which is our main problem). Using OOP, you could define a class, `Experiment`, that has attributes such as the variables time, and concentration, and a method for manipulating these attributes, turning them into something useful in answering the problem (e.g., performing linear regression on the data).\n",
    "\n",
    "In that case the object is the experimental data; attributes could be the time array and the corresponding concentration array; and the methods could be performing a linear regression on the data. Thus, the data contained in the `caa-40.txt` file is an instance of the `Experiment` class. Its attributes are its time and concentration vector, and it exposes the `linreg()` method to spit out the gradient and intercept. \n",
    "\n",
    "### Example 2 - The `BankAccount` Class\n",
    "\n",
    "Another, more complex, problem would be retail banking. To manage this bank using OOP, we could create two classes: a `BankAccount` class containing details about the accounts such as number, owner, status, etc., and a `customer` class containing details about the customer such as the name, address, birthdate, etc. \n",
    "\n",
    "![Prob3-fig1](./images/Prob3-fig1.jpg)\n",
    "\n",
    "A bank account (object) is an instance of the class `BankAccount` which will dictate its attributes (what it is). When registered, a customer (object) is instantiated by the class `customer` which will also dictate its attributes.\n",
    "\n",
    "An important concept in OOP is *inheritance*. To illustrate this, there are multiple types of bank accounts, e.g., savings account and checking account. Now, you could make a class for each of them (a `SavingsAccount` class and a `CheckingAccount` class); the two classes would have some common attributes (e.g., account number, and customer) and methods (e.g., deposit, and withdraw). However, one way to approach this, which avoids repeating the common attributes and methods, is to define them as two *subclasses* of the base class `BankAccount`.\n",
    "\n",
    "The base class `BankAccount` would contain the attributes and methods common in all bank accounts; these attributes and methods of the base class are *inherted* by the specialized subclasses. Meanwhile, the `SavingsAccount` subclass could have an `interest_rate` attribute since they pay interest on money in savings, but the `CheckingAccount` subclass could have a `annual_fees` attribute, characteristic of a checking account.\n",
    "\n",
    "![Prob3-fig2](./images/Prob3-fig2.jpg)\n",
    "\n",
    "\n",
    "\n"
   ]
  }
 ],
 "metadata": {
  "kernelspec": {
   "display_name": "Python 3.9.12 ('base')",
   "language": "python",
   "name": "python3"
  },
  "language_info": {
   "name": "python",
   "version": "3.9.12"
  },
  "orig_nbformat": 4,
  "vscode": {
   "interpreter": {
    "hash": "3a00b03249650e71f6dd152ee20c5a3cbc0ea42b2b6a7271a320870e50fd8a3e"
   }
  }
 },
 "nbformat": 4,
 "nbformat_minor": 2
}
