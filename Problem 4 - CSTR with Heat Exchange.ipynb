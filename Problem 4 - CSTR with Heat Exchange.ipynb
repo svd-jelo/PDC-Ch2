{
 "cells": [
  {
   "cell_type": "markdown",
   "id": "bf7b36bc",
   "metadata": {},
   "source": [
    "# Problem 4 - CSTR with Heat Exchange\n",
    "\n",
    "Consider a simple liquid-phase, irreversible chemical reaction, $\\text{A}\\to\\text{B}$, that takes place in a CSTR. The schematic diagram is as follows.\n",
    "\n",
    "![Prob4-fig1](./images/Prob4-fig1.jpg)\n",
    "\n",
    "The goal is to derive a dynamic model that describing the exit temperature $T$ and exit concentration $c_A$ under the following assumptions:\n",
    "\n",
    "1. The CSTR is perfectly mixed.\n",
    "2. The mass densities of the feed and product streams are equal and constant, and is denoted by $\\rho$.\n",
    "3. The liquid volume $V$ in the reactor is kept constant by an overflow line.\n",
    "4. The reaction follows a first-order rate law, $r_A = kc_A$\n",
    "5. The thermal capacitances of the coolant and the cooling coil wall are negligible compared to that of the liquid in the tank.\n",
    "6. All of the coolant is at a uniform temperature, $T_c$. (The temperature gradient from the coolant and the coil wall exposed to the liquid is neglected)\n",
    "7. The rate of heat transfer from the reactor contents to the coolant is given by $ Q = UA(T_c - T) $ where $U$ is the overall heat transfer coefficient and $A$ is the heat transfer area. Both of these model parameters are assumed to be constant.\n",
    "8. The enthalpy change associated with the mixing of the feed and the liquid in the tank is negligible compared with the enthalpy change for the chemical reaction. In other words, the heat of mixing is negligible compared to the reaction.\n",
    "9. Shaft work and heat losses to the ambient can be neglected.\n",
    "10. kinetic, potential, and other energies corresponding to each stream (except the internal energy) are neglected.\n",
    "\n",
    "Then, a simulation is to be made on the effect of a step change in coolant temperature in the positive and negative directions. The table below shows the parameters and nominal operating condition for the CSTR.\n",
    "\n",
    "| Parameter | Value | Parameter | Value |\n",
    "| :-: | :- | :-: | :- |\n",
    "| $q$ | $100~\\text{L/min}$ | $E/R$ | $8750~\\text{}$ |\n",
    "| $c_{Ai}$ | $1~\\text{mol/L}$ | $k_0$ | $7.2\\times 10^{10}~\\text{min}^{-1}$ |\n",
    "| $\\tau_i$ | $350~\\text{K}$ | $UA$ | $5\\times 10^4~\\text{J/min-K}$ |\n",
    "| $V$ | $100~\\text{L}$ | $T_c(0)$  | $300~\\text{K}$ |\n",
    "| $\\rho$ | $1000~\\text{g/L}$ | $c_A(0)$ | $0.5~\\text{mol/L}$ |\n",
    "| $C$ | $0.239~\\text{J/g-K}$ | $T(0)$ | $350~\\text{K}$ |\n",
    "| $-\\Delta H_R$ | $5\\times 10^4~\\text{J/mol}$ | $~$ | $~$ |\n",
    "\n",
    "Two cases are to be simulated, one based on increases cooling by changing $T_c$ from $300~\\text{K}$ to $290~\\text{K}$ and one reducing the cooling rate by increasing $T_c$ from $300~\\text{K}$ to $305~\\text{K}$. The model equations are to be solved over a 10-minute horizon."
   ]
  }
 ],
 "metadata": {
  "kernelspec": {
   "display_name": "Python 3 (ipykernel)",
   "language": "python",
   "name": "python3"
  },
  "language_info": {
   "codemirror_mode": {
    "name": "ipython",
    "version": 3
   },
   "file_extension": ".py",
   "mimetype": "text/x-python",
   "name": "python",
   "nbconvert_exporter": "python",
   "pygments_lexer": "ipython3",
   "version": "3.9.12"
  }
 },
 "nbformat": 4,
 "nbformat_minor": 5
}
